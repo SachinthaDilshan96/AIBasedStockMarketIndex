{
 "cells": [
  {
   "cell_type": "code",
   "execution_count": 2,
   "id": "971812d8",
   "metadata": {
    "id": "971812d8"
   },
   "outputs": [],
   "source": [
    "import pandas as pd\n",
    "import numpy as np\n",
    "import matplotlib.pyplot as plt\n",
    "import seaborn as sns\n",
    "%matplotlib inline"
   ]
  },
  {
   "cell_type": "code",
   "execution_count": 3,
   "id": "d58d1118",
   "metadata": {
    "id": "d58d1118"
   },
   "outputs": [],
   "source": [
    "from urllib.request import urlopen\n",
    "from bs4 import BeautifulSoup"
   ]
  },
  {
   "cell_type": "code",
   "execution_count": 4,
   "id": "447e211d",
   "metadata": {
    "id": "447e211d"
   },
   "outputs": [],
   "source": [
    "import pandas as pd\n",
    "data=pd.DataFrame(columns=['Date','News'])"
   ]
  },
  {
   "cell_type": "code",
   "execution_count": 5,
   "id": "a95dddda",
   "metadata": {
    "id": "a95dddda"
   },
   "outputs": [],
   "source": [
    "url = \"https://www.lankabusinessonline.com/category/economy-markets/markets/page/{page:}/\"\n"
   ]
  },
  {
   "cell_type": "code",
   "execution_count": 6,
   "id": "388d1808",
   "metadata": {
    "colab": {
     "base_uri": "https://localhost:8080/",
     "height": 423
    },
    "id": "388d1808",
    "outputId": "4ceee41c-62fc-49fd-acf6-6b4d4509fdc5",
    "scrolled": false
   },
   "outputs": [
    {
     "data": {
      "text/html": [
       "<div>\n",
       "<style scoped>\n",
       "    .dataframe tbody tr th:only-of-type {\n",
       "        vertical-align: middle;\n",
       "    }\n",
       "\n",
       "    .dataframe tbody tr th {\n",
       "        vertical-align: top;\n",
       "    }\n",
       "\n",
       "    .dataframe thead th {\n",
       "        text-align: right;\n",
       "    }\n",
       "</style>\n",
       "<table border=\"1\" class=\"dataframe\">\n",
       "  <thead>\n",
       "    <tr style=\"text-align: right;\">\n",
       "      <th></th>\n",
       "      <th>Date</th>\n",
       "      <th>News</th>\n",
       "    </tr>\n",
       "  </thead>\n",
       "  <tbody>\n",
       "    <tr>\n",
       "      <th>0</th>\n",
       "      <td>2021-02-16</td>\n",
       "      <td>SEC conducts workshop for CFOs of potential li...</td>\n",
       "    </tr>\n",
       "    <tr>\n",
       "      <th>1</th>\n",
       "      <td>2021-02-13</td>\n",
       "      <td>I ask you to be confident; ongoing negotiation...</td>\n",
       "    </tr>\n",
       "    <tr>\n",
       "      <th>2</th>\n",
       "      <td>2021-02-11</td>\n",
       "      <td>SEC and CSE meet with Stockbrokers to discuss ...</td>\n",
       "    </tr>\n",
       "    <tr>\n",
       "      <th>3</th>\n",
       "      <td>2021-02-08</td>\n",
       "      <td>Driving growth-bridging deficits – outlook 202...</td>\n",
       "    </tr>\n",
       "    <tr>\n",
       "      <th>4</th>\n",
       "      <td>2021-02-08</td>\n",
       "      <td>Sri Lanka on positive and steady path for econ...</td>\n",
       "    </tr>\n",
       "    <tr>\n",
       "      <th>...</th>\n",
       "      <td>...</td>\n",
       "      <td>...</td>\n",
       "    </tr>\n",
       "    <tr>\n",
       "      <th>1615</th>\n",
       "      <td>2011-11-18</td>\n",
       "      <td>Sri Lanka stocks end up 0.8-pct</td>\n",
       "    </tr>\n",
       "    <tr>\n",
       "      <th>1616</th>\n",
       "      <td>2011-11-17</td>\n",
       "      <td>Sri Lanka stocks end up 1.2-pct</td>\n",
       "    </tr>\n",
       "    <tr>\n",
       "      <th>1617</th>\n",
       "      <td>2011-11-16</td>\n",
       "      <td>Sri Lanka stocks extend losses</td>\n",
       "    </tr>\n",
       "    <tr>\n",
       "      <th>1618</th>\n",
       "      <td>2011-11-15</td>\n",
       "      <td>Sri Lanka stocks plunge 2.3-pct</td>\n",
       "    </tr>\n",
       "    <tr>\n",
       "      <th>1619</th>\n",
       "      <td>2011-11-14</td>\n",
       "      <td>Sri Lanka stocks end down 1.5-pct</td>\n",
       "    </tr>\n",
       "  </tbody>\n",
       "</table>\n",
       "<p>1620 rows × 2 columns</p>\n",
       "</div>"
      ],
      "text/plain": [
       "           Date                                               News\n",
       "0    2021-02-16  SEC conducts workshop for CFOs of potential li...\n",
       "1    2021-02-13  I ask you to be confident; ongoing negotiation...\n",
       "2    2021-02-11  SEC and CSE meet with Stockbrokers to discuss ...\n",
       "3    2021-02-08  Driving growth-bridging deficits – outlook 202...\n",
       "4    2021-02-08  Sri Lanka on positive and steady path for econ...\n",
       "...         ...                                                ...\n",
       "1615 2011-11-18                    Sri Lanka stocks end up 0.8-pct\n",
       "1616 2011-11-17                    Sri Lanka stocks end up 1.2-pct\n",
       "1617 2011-11-16                     Sri Lanka stocks extend losses\n",
       "1618 2011-11-15                    Sri Lanka stocks plunge 2.3-pct\n",
       "1619 2011-11-14                  Sri Lanka stocks end down 1.5-pct\n",
       "\n",
       "[1620 rows x 2 columns]"
      ]
     },
     "execution_count": 6,
     "metadata": {},
     "output_type": "execute_result"
    }
   ],
   "source": [
    "for i in range(3,84):\n",
    "    url = \"https://www.lankabusinessonline.com/category/economy-markets/markets/page/{page:}/\".format(page=i)\n",
    "    html = urlopen(url)\n",
    "    soup = BeautifulSoup(html, 'lxml')\n",
    "\n",
    "    for div in soup.findAll('article'):\n",
    "        \n",
    "        entry=div.find('div',attrs={'class':'entry-thumb' })\n",
    "        if entry is not None:\n",
    "            title=entry.find('a')['title']\n",
    "            if title is not None:\n",
    "                df_length = len(data)\n",
    "                date=div.find('time')['datetime']\n",
    "                date=date.split('T')[0]\n",
    "                data.loc[df_length] = [date,entry.find('a')['title']]\n",
    "        else:\n",
    "            entry=div.find('div',attrs={'class':'entry-list-right no-image' })\n",
    "            title=entry.find('a')['title']\n",
    "            if title is not None:\n",
    "                df_length = len(data)\n",
    "                date=div.find('time')['datetime']\n",
    "                date=date.split('T')[0]\n",
    "                data.loc[df_length] = [date,entry.find('a')['title']]\n",
    "\n",
    "    \n",
    "    \n",
    "data['Date']=pd.to_datetime(data['Date'])    \n",
    "data    "
   ]
  },
  {
   "cell_type": "markdown",
   "id": "dd557b6a",
   "metadata": {
    "id": "dd557b6a"
   },
   "source": [
    "data.to_csv('news.csv')\n"
   ]
  },
  {
   "cell_type": "code",
   "execution_count": null,
   "id": "345a4e7e",
   "metadata": {
    "colab": {
     "base_uri": "https://localhost:8080/"
    },
    "id": "345a4e7e",
    "outputId": "8a333ec1-abe6-45d5-eb18-e755be63f794"
   },
   "outputs": [],
   "source": [
    "#the sentiment analysis\n",
    "!pip install flair\n",
    "import flair\n",
    "sentiment_model = flair.models.TextClassifier.load('en-sentiment')\n",
    "\n",
    "#add new column to "
   ]
  },
  {
   "cell_type": "code",
   "execution_count": null,
   "id": "4a1b9ce4",
   "metadata": {
    "colab": {
     "base_uri": "https://localhost:8080/",
     "height": 597
    },
    "id": "4a1b9ce4",
    "outputId": "4b9e1b68-d1d1-48d9-8b7d-46e48bb8bd3a"
   },
   "outputs": [],
   "source": [
    "#sentiment analysis\n",
    "\n",
    "#add a new column to dataframe\n",
    "data['sentiment result']=0\n",
    "data['sentiment probability']=0\n",
    "for i in data.index:\n",
    "    text=data['News'][i]\n",
    "    sentence=flair.data.Sentence(text)\n",
    "    sentiment_model.predict(sentence)\n",
    "    probability = sentence.labels[0].score  \n",
    "    sentiment = sentence.labels[0].value\n",
    "    data['sentiment result'][i]=sentiment\n",
    "    data['sentiment probability']=probability\n",
    "\n",
    "\n",
    "data    "
   ]
  },
  {
   "cell_type": "code",
   "execution_count": null,
   "id": "3f5ba547",
   "metadata": {
    "id": "3f5ba547"
   },
   "outputs": [],
   "source": []
  },
  {
   "cell_type": "code",
   "execution_count": null,
   "id": "rdIN84z_gYRV",
   "metadata": {
    "id": "rdIN84z_gYRV"
   },
   "outputs": [],
   "source": [
    "#sentiment analysis using textblob with 3 classes\n"
   ]
  },
  {
   "cell_type": "code",
   "execution_count": null,
   "id": "T1f1zdgzgYUR",
   "metadata": {
    "id": "T1f1zdgzgYUR"
   },
   "outputs": [],
   "source": [
    "from textblob import TextBlob\n"
   ]
  },
  {
   "cell_type": "code",
   "execution_count": null,
   "id": "NmUonrUGmjU9",
   "metadata": {
    "colab": {
     "base_uri": "https://localhost:8080/",
     "height": 423
    },
    "id": "NmUonrUGmjU9",
    "outputId": "9b02fb25-2982-4416-804b-75c9e739563c"
   },
   "outputs": [],
   "source": [
    "data"
   ]
  },
  {
   "cell_type": "code",
   "execution_count": null,
   "id": "zWntwjwIl5yF",
   "metadata": {
    "colab": {
     "base_uri": "https://localhost:8080/"
    },
    "id": "zWntwjwIl5yF",
    "outputId": "3d099998-5f8f-44ff-c819-1f5ab3b504cb"
   },
   "outputs": [],
   "source": [
    "data['textblobResult']=0\n",
    "#data['textblobProbability']=0\n",
    "for i in data.index:\n",
    "  sentence=data['News'][i]\n",
    "  analysis = TextBlob(sentence)\n",
    "        # set sentiment\n",
    "  if analysis.sentiment.polarity > 0:\n",
    "          data['textblobResult'][i]='Positive'\n",
    "  elif analysis.sentiment.polarity == 0:\n",
    "          data['textblobResult'][i]='Neutral'\n",
    "  else:\n",
    "          data['textblobResult'][i]='Negative'"
   ]
  },
  {
   "cell_type": "code",
   "execution_count": null,
   "id": "fk1pCukKpeK_",
   "metadata": {
    "colab": {
     "base_uri": "https://localhost:8080/",
     "height": 423
    },
    "id": "fk1pCukKpeK_",
    "outputId": "c5cfa7da-165e-48fe-b617-fc32fe328ad8"
   },
   "outputs": [],
   "source": [
    "data"
   ]
  },
  {
   "cell_type": "code",
   "execution_count": null,
   "id": "46ca87ba",
   "metadata": {},
   "outputs": [],
   "source": [
    "data."
   ]
  },
  {
   "cell_type": "code",
   "execution_count": 59,
   "id": "zGAGjAjVpsS5",
   "metadata": {
    "colab": {
     "base_uri": "https://localhost:8080/"
    },
    "id": "zGAGjAjVpsS5",
    "outputId": "f2a4c0e4-9925-47f8-b044-923b66bc5ea7"
   },
   "outputs": [
    {
     "name": "stdout",
     "output_type": "stream",
     "text": [
      "Number of Positive News using Flair 423\n",
      "Number of Negative News using Flair 1197\n",
      "Number of Positive News using TextBlob 309\n",
      "Number of Negative News using TextBlob 494\n",
      "Number of Neutral News using TextBlob 817\n"
     ]
    }
   ],
   "source": [
    "flairpositive=len(data[data['sentiment result']=='POSITIVE'])\n",
    "flairnegative=len(data[data['sentiment result']=='NEGATIVE'])\n",
    "blobpositive=len(data[data['textblobResult']=='Positive'])\n",
    "blobnegative=len(data[data['textblobResult']=='Negative'])\n",
    "blobneutral=len(data[data['textblobResult']=='Neutral'])\n",
    "print('Number of Positive News using Flair',flairpositive)\n",
    "print('Number of Negative News using Flair',flairnegative)\n",
    "print('Number of Positive News using TextBlob',blobpositive)\n",
    "print('Number of Negative News using TextBlob',blobnegative)\n",
    "print('Number of Neutral News using TextBlob',blobneutral)\n",
    "\n"
   ]
  }
 ],
 "metadata": {
  "colab": {
   "collapsed_sections": [],
   "name": "WebScrapper.ipynb",
   "provenance": []
  },
  "kernelspec": {
   "display_name": "Python 3",
   "language": "python",
   "name": "python3"
  },
  "language_info": {
   "codemirror_mode": {
    "name": "ipython",
    "version": 3
   },
   "file_extension": ".py",
   "mimetype": "text/x-python",
   "name": "python",
   "nbconvert_exporter": "python",
   "pygments_lexer": "ipython3",
   "version": "3.8.8"
  }
 },
 "nbformat": 4,
 "nbformat_minor": 5
}
